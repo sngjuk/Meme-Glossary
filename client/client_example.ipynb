{
 "cells": [
  {
   "cell_type": "code",
   "execution_count": null,
   "metadata": {
    "scrolled": false
   },
   "outputs": [],
   "source": [
    "from IPython.display import display, HTML\n",
    "import re\n",
    "import json\n",
    "import sys\n",
    "\"\"\"\n",
    "server_rep_msg = {\n",
    "    \"rep\": rep_name,\n",
    "    \"query\": query,\n",
    "    \"oov\" : oov_flag,\n",
    "    \"result_exist\": result_exist_flag,\n",
    "    \"memefname\": memefname_list,\n",
    "    \"episode\": episode_list,                \n",
    "    \"text\" : text_list,\n",
    "    \"imgdata\": imgdata_list,\n",
    "    \"sim\": sim_list\n",
    "}\n",
    "\"\"\"\n",
    "def show_result(loaded_json):\n",
    "    for y in loaded_json:\n",
    "        print('Request : ' + str(y['rep'] ) + '\\nquery : ' + str(y['query']) )\n",
    "        \n",
    "        # show 'random' result\n",
    "        if y['rep'] =='random':\n",
    "            display(HTML('''<img src=\"data:image/jpg;base64,''' +y ['imgdata'][0] + '''\">'''))             \n",
    "            print('filename :', y['memefname'][0])                            \n",
    "            print('episode :', y['episode'][0])\n",
    "            print('text :',y['text'][0])            \n",
    "            print(\"--- done ---\\n\")\n",
    "            continue\n",
    "        \n",
    "        if y['oov']:\n",
    "            print('# Dont know that word TT')\n",
    "\n",
    "        if y['result_exist'] == False:\n",
    "            print('# Cannot find similar meme TT (default min_sim=0.10)')\n",
    "\n",
    "        if not y['result_exist'] or y['oov']:\n",
    "            continue\n",
    "            \n",
    "        # show 'dank'\n",
    "        for fname, episode, text, b64data, sim in zip(y['memefname'], y['episode'], y['text'], y['imgdata'], y['sim']):\n",
    "            display(HTML('''<img src=\"data:image/jpg;base64,''' + b64data + '''\">'''))    \n",
    "            print('-- Results --')\n",
    "            print('filename :', fname)                            \n",
    "            print('episode :', episode)\n",
    "            print('text :',text)\n",
    "            if sim:\n",
    "                print('similarity :',sim)\n",
    "        print(\"--- done ---\\n\")\n",
    "\n",
    "# REQ: 1 dank query. -> REP: N memes in a json in a list. \n",
    "#     = dank(['req_query']) -> [rep_json([memefname_list, episode_list, imgdata_list, ...])]\n",
    "\n",
    "# REQ: N dank queries. -> REP: N jsons in a list.\n",
    "#     = dank(['req1_query', 'req2_query']) -> [rep1_json(...), rep2_json(...), ...]"
   ]
  },
  {
   "cell_type": "code",
   "execution_count": null,
   "metadata": {
    "scrolled": false
   },
   "outputs": [],
   "source": [
    "import client\n",
    "mg = client.MgClient()\n",
    "\n",
    "# Meme with query.\n",
    "show_result(mg.dank(['식사', '압도적 감사'], max_img=1, min_sim=0.15))\n",
    "# Random meme.\n",
    "res_list = mg.random()\n",
    "show_result(res_list)\n",
    "# Save as a file.\n",
    "rand_res = res_list[0]\n",
    "mg.save_meme(rand_res['imgdata'][0], rand_res['memefname'][0])"
   ]
  }
 ],
 "metadata": {
  "kernelspec": {
   "display_name": "mgenv",
   "language": "python",
   "name": "mgenv"
  },
  "language_info": {
   "codemirror_mode": {
    "name": "ipython",
    "version": 3
   },
   "file_extension": ".py",
   "mimetype": "text/x-python",
   "name": "python",
   "nbconvert_exporter": "python",
   "pygments_lexer": "ipython3",
   "version": "3.6.9"
  }
 },
 "nbformat": 4,
 "nbformat_minor": 2
}
