{
 "cells": [
  {
   "cell_type": "code",
   "execution_count": null,
   "id": "c6bd1df7",
   "metadata": {},
   "outputs": [],
   "source": [
    "from TensorflowModel import TensorflowModel\n",
    "from Sent2VecModel import Sent2VecModel\n",
    "import pickle\n",
    "import faiss\n",
    "from IPython.display import display, HTML\n",
    "import re\n",
    "import json\n",
    "import sys\n",
    "import numpy as np\n",
    "import os\n",
    "import base64"
   ]
  },
  {
   "cell_type": "code",
   "execution_count": null,
   "id": "63149b58",
   "metadata": {},
   "outputs": [],
   "source": [
    "# model path\n",
    "model_path = '/home/seongjuk/project/meme-glossary/server/nlp/model/127_hgtki_lr9_ep11.bin'\n",
    "# image root folder path - folder of folders of images\n",
    "img_path = '/home/seongjuk/project/meme-glossary/tutorial/2_kumiko_cut_scenes'\n",
    "# saved embedding path\n",
    "saved_embedding_path = '/home/seongjuk/project/meme-glossary/tutorial/4_saved_embedding-hgtk.pickle'"
   ]
  },
  {
   "cell_type": "code",
   "execution_count": null,
   "id": "49378052",
   "metadata": {},
   "outputs": [],
   "source": [
    "# Import Tensorflow model\n",
    "model = TensorflowModel()\n",
    "model.load_model(model_path)"
   ]
  },
  {
   "cell_type": "code",
   "execution_count": null,
   "id": "1aa04e75",
   "metadata": {},
   "outputs": [],
   "source": [
    "# Import sent2vec model\n",
    "model = Sent2VecModel()\n",
    "model.load_model(model_path)"
   ]
  },
  {
   "cell_type": "code",
   "execution_count": null,
   "id": "6c079855",
   "metadata": {},
   "outputs": [],
   "source": [
    "# load embedding\n",
    "saved_embedding = pickle.load(open(saved_embedding_path, 'rb'))\n",
    "index = faiss.IndexFlatIP(saved_embedding['embedding_dimension'])\n",
    "\n",
    "print(np.shape(saved_embedding['embedding']))\n",
    "print(saved_embedding['embedding_dimension'])\n",
    "index.add(saved_embedding['embedding'])"
   ]
  },
  {
   "cell_type": "code",
   "execution_count": null,
   "id": "ce31914a",
   "metadata": {},
   "outputs": [],
   "source": [
    "query_embedding = model.embed_sentence('감사')\n",
    "print(np.shape(query_embedding))"
   ]
  },
  {
   "cell_type": "code",
   "execution_count": null,
   "id": "f3817fbd",
   "metadata": {},
   "outputs": [],
   "source": [
    "# korean decomposing model only\n",
    "import hgtk\n",
    "htext = hgtk.text.decompose('감사')\n",
    "print(htext)\n",
    "query_embedding = model.embed_sentence(htext)"
   ]
  },
  {
   "cell_type": "code",
   "execution_count": null,
   "id": "27ea459b",
   "metadata": {},
   "outputs": [],
   "source": [
    "D, I = index.search(x=query_embedding, k=3)\n",
    "sim_list = D[0].tolist()\n",
    "result_index = I[0]\n",
    "print(D)\n",
    "print(I)\n",
    "\n",
    "for sim, i in zip(sim_list, I[0]):\n",
    "    # data = base64.b64encode(meme_file.read())\n",
    "    # data = str(data)\n",
    "    #display(HTML('''<img src=\"data:image/jpg;base64,''' + b64data + '''\">'''))\n",
    "    print(saved_embedding['text'][i])\n",
    "    print(sim)\n",
    "\n",
    "    jpg_path = os.path.join(os.path.abspath(img_path), saved_embedding['file_path'][i])\n",
    "\n",
    "    with open(jpg_path, 'rb') as meme_file:\n",
    "        # Encode image with base64 and str.\n",
    "        data = base64.b64encode(meme_file.read())\n",
    "        data = str(data)\n",
    "\n",
    "        data = data.replace(\"'\", '\"')\n",
    "        unpacked_b64data = re.search(r'\\\"(.*)\\\"', data).group(1)\n",
    "        \n",
    "        display(HTML('''<img src=\"data:image/jpg;base64,''' + unpacked_b64data + '''\">'''))\n"
   ]
  }
 ],
 "metadata": {
  "kernelspec": {
   "display_name": "mgenv",
   "language": "python",
   "name": "mgenv"
  },
  "language_info": {
   "codemirror_mode": {
    "name": "ipython",
    "version": 3
   },
   "file_extension": ".py",
   "mimetype": "text/x-python",
   "name": "python",
   "nbconvert_exporter": "python",
   "pygments_lexer": "ipython3",
   "version": "3.6.9"
  }
 },
 "nbformat": 4,
 "nbformat_minor": 5
}
